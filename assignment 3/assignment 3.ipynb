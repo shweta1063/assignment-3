{
 "cells": [
  {
   "cell_type": "markdown",
   "metadata": {},
   "source": [
    "# Question 1"
   ]
  },
  {
   "cell_type": "code",
   "execution_count": 2,
   "metadata": {},
   "outputs": [
    {
     "name": "stdout",
     "output_type": "stream",
     "text": [
      "enter first number: 4\n",
      "enter second number: 1\n",
      "enter third number:4\n",
      "Maximum number is : 4\n"
     ]
    }
   ],
   "source": [
    "#write a python function to find the max of three no\n",
    "def max_n(a,b,c):\n",
    "    list=[a,b,c]\n",
    "    return max(list)\n",
    "#driven code\n",
    "x=int(input(\"enter first number: \"))\n",
    "y=int(input(\"enter second number: \"))\n",
    "z=int(input(\"enter third number:\"))\n",
    "print(\"Maximum number is :\",max_n(x,y,z))   "
   ]
  },
  {
   "cell_type": "markdown",
   "metadata": {},
   "source": [
    "# Question 2"
   ]
  },
  {
   "cell_type": "code",
   "execution_count": 3,
   "metadata": {},
   "outputs": [
    {
     "name": "stdout",
     "output_type": "stream",
     "text": [
      "Enter a number4\n",
      "Number is palindrome : True\n"
     ]
    }
   ],
   "source": [
    "#write a function to check palindrome number\n",
    "def palindrome(num):\n",
    "     a=num\n",
    "     rev=0\n",
    "     while(num>0):\n",
    "        dig=num%10\n",
    "        rev=rev*10+dig\n",
    "        num=num//10\n",
    "     if rev==a:\n",
    "        return True\n",
    "     else:\n",
    "        return False\n",
    "#driven code\n",
    "c=int(input(\"Enter a number\"))\n",
    "print(\"Number is palindrome :\",palindrome(c))"
   ]
  },
  {
   "cell_type": "markdown",
   "metadata": {},
   "source": [
    "# Question 3"
   ]
  },
  {
   "cell_type": "code",
   "execution_count": 4,
   "metadata": {},
   "outputs": [
    {
     "name": "stdout",
     "output_type": "stream",
     "text": [
      "Enter a sentence: helooo HHHH\n",
      "No. of Uppercase is : 4\n",
      "No. of Uppercase is : 6\n"
     ]
    }
   ],
   "source": [
    "#write a function that accepts a string and calculate no of uppercase and lowercase leter \n",
    "def Upper_and_lower(s):\n",
    "     upper_c=0\n",
    "     lower_c=0\n",
    "     for c in s:\n",
    "        if c.isupper():\n",
    "            upper_c+=1\n",
    "        elif c.islower():\n",
    "            lower_c+=1\n",
    "        else:\n",
    "            pass\n",
    "     print(\"No. of Uppercase is :\",upper_c)\n",
    "     print(\"No. of Uppercase is :\",lower_c)\n",
    "#driven code\n",
    "t=input(\"Enter a sentence: \")\n",
    "Upper_and_lower(t)"
   ]
  },
  {
   "cell_type": "markdown",
   "metadata": {},
   "source": [
    "# Question 4"
   ]
  },
  {
   "cell_type": "code",
   "execution_count": 5,
   "metadata": {},
   "outputs": [
    {
     "name": "stdout",
     "output_type": "stream",
     "text": [
      "Sum of all number in list is : 45\n"
     ]
    }
   ],
   "source": [
    "#write a function to sum all the elements in list\n",
    "def sum_list(l1):\n",
    "     sum=0\n",
    "     for i in l1:\n",
    "        sum=sum+i\n",
    "     return sum\n",
    "#driven code\n",
    "l2=[1,2,3,4,5,6,7,8,9]\n",
    "print(\"Sum of all number in list is :\",sum_list(l2))"
   ]
  },
  {
   "cell_type": "markdown",
   "metadata": {},
   "source": [
    "# Question 5"
   ]
  },
  {
   "cell_type": "code",
   "execution_count": 6,
   "metadata": {},
   "outputs": [
    {
     "name": "stdout",
     "output_type": "stream",
     "text": [
      "Multiply of all number in list is : 60\n"
     ]
    }
   ],
   "source": [
    "#write a function to multiply all the elements in list\n",
    "def mul_list(l1):\n",
    "     mul=1\n",
    "     for i in l1:\n",
    "        mul=mul*i\n",
    "     return mul\n",
    "#driven code\n",
    "l2=[2,3,2,5]\n",
    "print(\"Multiply of all number in list is :\",mul_list(l2))"
   ]
  },
  {
   "cell_type": "markdown",
   "metadata": {},
   "source": [
    "# Question 6"
   ]
  },
  {
   "cell_type": "code",
   "execution_count": 7,
   "metadata": {},
   "outputs": [
    {
     "data": {
      "text/plain": [
       "[2, 3, 6, 8, 9]"
      ]
     },
     "execution_count": 7,
     "metadata": {},
     "output_type": "execute_result"
    }
   ],
   "source": [
    "#write a python function that takes a list and return a new list with uniqe elements\n",
    "def unique_list(l2):\n",
    "    set=[]\n",
    "    for i in l2:\n",
    "        if i not in set:\n",
    "            set.append(i)\n",
    "    return set\n",
    "#driven code\n",
    "l1=[2,3,6,2,3,8,8,9]\n",
    "unique_list(l1)"
   ]
  },
  {
   "cell_type": "code",
   "execution_count": null,
   "metadata": {},
   "outputs": [],
   "source": []
  }
 ],
 "metadata": {
  "kernelspec": {
   "display_name": "Python 3",
   "language": "python",
   "name": "python3"
  },
  "language_info": {
   "codemirror_mode": {
    "name": "ipython",
    "version": 3
   },
   "file_extension": ".py",
   "mimetype": "text/x-python",
   "name": "python",
   "nbconvert_exporter": "python",
   "pygments_lexer": "ipython3",
   "version": "3.7.6"
  }
 },
 "nbformat": 4,
 "nbformat_minor": 4
}
